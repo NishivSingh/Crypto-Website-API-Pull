{
 "cells": [
  {
   "cell_type": "code",
   "execution_count": 2,
   "metadata": {},
   "outputs": [
    {
     "name": "stdout",
     "output_type": "stream",
     "text": [
      "{'status': {'timestamp': '2025-02-01T14:01:58.185Z', 'error_code': 0, 'error_message': None, 'elapsed': 1, 'credit_count': 1, 'notice': None}, 'data': [{'id': 633, 'name': 'senlc5af6p', 'symbol': '87maouv2fln', 'slug': 'p4hqdhkq0cn', 'cmc_rank': 2968, 'num_market_pairs': 8520, 'circulating_supply': 1976, 'total_supply': 4151, 'max_supply': 5500, 'infinite_supply': None, 'last_updated': '2025-02-01T14:01:58.185Z', 'date_added': '2025-02-01T14:01:58.185Z', 'tags': ['o9n0a41skm', 'kmhn23tr6po', 'dpdnv09cn4t', 'saaj42ohv9b', 'avrug1d6mlr', 'meazmc1crvs', 'bx698o79riu', 'v8hjpmvmd59', '2vzzjjmzljg', 'ljh9lteeia'], 'platform': None, 'self_reported_circulating_supply': None, 'self_reported_market_cap': None, 'quote': {'USD': {'price': 0.057168067912672926, 'volume_24h': 4338, 'volume_change_24h': 0.14462653020408345, 'percent_change_1h': 0.8869418692815936, 'percent_change_24h': 0.46049805913197517, 'percent_change_7d': 0.5862936978132847, 'market_cap': 0.3974123626408903, 'market_cap_dominance': 7838, 'fully_diluted_market_cap': 0.558787838598743, 'last_updated': '2025-02-01T14:01:58.185Z'}}}, {'id': 2738, 'name': 'oy57jveyi4j', 'symbol': 'w03393sihq', 'slug': 'ptbnebq726i', 'cmc_rank': 5186, 'num_market_pairs': 8731, 'circulating_supply': 8318, 'total_supply': 2114, 'max_supply': 4654, 'infinite_supply': None, 'last_updated': '2025-02-01T14:01:58.185Z', 'date_added': '2025-02-01T14:01:58.185Z', 'tags': ['vlcr11rfor', 'mavgsh1uahi', 'gpg8yrb6h2c', 'hlcj3kwu1k', '5d5k0bhlcgw', 'nxdbmhbs3bm', 'q7g0paty0b', 'uha2hcc2bw', 'z5e6zf5dkf8', 'hlqz8p8jc39'], 'platform': None, 'self_reported_circulating_supply': None, 'self_reported_market_cap': None, 'quote': {'USD': {'price': 0.4669026077564957, 'volume_24h': 4794, 'volume_change_24h': 0.9796725474033423, 'percent_change_1h': 0.030152622522635397, 'percent_change_24h': 0.7486238790850936, 'percent_change_7d': 0.4195047409615429, 'market_cap': 0.6715742941839382, 'market_cap_dominance': 8885, 'fully_diluted_market_cap': 0.2455851390362378, 'last_updated': '2025-02-01T14:01:58.185Z'}}}, {'id': 9608, 'name': 'fj6uyli1xbd', 'symbol': 'scafumu28', 'slug': 'fe177d1a0bk', 'cmc_rank': 3513, 'num_market_pairs': 2259, 'circulating_supply': 7483, 'total_supply': 2051, 'max_supply': 436, 'infinite_supply': None, 'last_updated': '2025-02-01T14:01:58.185Z', 'date_added': '2025-02-01T14:01:58.185Z', 'tags': ['smytl1v1aj', 'gf52feslhqn', 'o6u1je5kk5p', 'wbmxywepzm', 'avz6yv4h7wr', 'y7a1gt0gh8d', 'kejkxv2xl6a', 'z54je4kj0k', '5foc33xa2f3', 'xi95ursiyz'], 'platform': None, 'self_reported_circulating_supply': None, 'self_reported_market_cap': None, 'quote': {'USD': {'price': 0.8101366793386313, 'volume_24h': 1096, 'volume_change_24h': 0.1307339603635862, 'percent_change_1h': 0.9208009050972699, 'percent_change_24h': 0.12919603840558658, 'percent_change_7d': 0.35146135991519145, 'market_cap': 0.9649320318973731, 'market_cap_dominance': 1221, 'fully_diluted_market_cap': 0.935287002087366, 'last_updated': '2025-02-01T14:01:58.185Z'}}}, {'id': 584, 'name': 's2ztfovqh9d', 'symbol': 'tctieivk6o', 'slug': 'qnr4tzatvd', 'cmc_rank': 4589, 'num_market_pairs': 6606, 'circulating_supply': 728, 'total_supply': 4674, 'max_supply': 8820, 'infinite_supply': None, 'last_updated': '2025-02-01T14:01:58.185Z', 'date_added': '2025-02-01T14:01:58.185Z', 'tags': ['6uyz4vn19jp', 'fds00ps648w', '9kcqtujafqd', '5d9v3ec3zco', 'yau0pehc70c', '9ehboonm19q', 'q9va7nubzuj', '7kvt1j1jvr5', 'wbmk6tuwmy', 'y2u64pogty7'], 'platform': None, 'self_reported_circulating_supply': None, 'self_reported_market_cap': None, 'quote': {'USD': {'price': 0.17197218329759134, 'volume_24h': 7224, 'volume_change_24h': 0.9365764237803238, 'percent_change_1h': 0.20581643451799403, 'percent_change_24h': 0.16091965989005796, 'percent_change_7d': 0.09199274054616047, 'market_cap': 0.5288078458420233, 'market_cap_dominance': 8339, 'fully_diluted_market_cap': 0.2279905567358187, 'last_updated': '2025-02-01T14:01:58.185Z'}}}, {'id': 7974, 'name': 'of0pgrixh5q', 'symbol': 'w52ofkggfo', 'slug': 'pbwcjn9colq', 'cmc_rank': 5066, 'num_market_pairs': 6162, 'circulating_supply': 4841, 'total_supply': 8526, 'max_supply': 5888, 'infinite_supply': None, 'last_updated': '2025-02-01T14:01:58.185Z', 'date_added': '2025-02-01T14:01:58.185Z', 'tags': ['xzpzwaugsxs', '3vs0m59v1m8', '9p5lb1pez0p', 'pjieuxts4r', 'yetr15yk3u8', 'i7ailxtq46', 'ftrmg66x93j', 'x8w1r214mmr', '5jo0lsycrjc', '0hort82r4kdu'], 'platform': None, 'self_reported_circulating_supply': None, 'self_reported_market_cap': None, 'quote': {'USD': {'price': 0.30003743281416595, 'volume_24h': 9277, 'volume_change_24h': 0.20794279339951305, 'percent_change_1h': 0.6056306675575254, 'percent_change_24h': 0.3645573795708361, 'percent_change_7d': 0.34657986409760166, 'market_cap': 0.29168382997361153, 'market_cap_dominance': 686, 'fully_diluted_market_cap': 0.04792384402535976, 'last_updated': '2025-02-01T14:01:58.185Z'}}}, {'id': 4992, 'name': 'keha5z8ssu', 'symbol': '7nw8gbm3adl', 'slug': '9xoyts2giar', 'cmc_rank': 1244, 'num_market_pairs': 3540, 'circulating_supply': 8227, 'total_supply': 3685, 'max_supply': 1300, 'infinite_supply': None, 'last_updated': '2025-02-01T14:01:58.185Z', 'date_added': '2025-02-01T14:01:58.185Z', 'tags': ['qihc2ieq41f', '3u2po5grc7', '4jtlyx0mghn', 'ndi466ss5h8', 'rodx3k0atu', 'k0ura0fyzdm', 'sw8j90832k', '2rwcacbomku', 'y7saz0eddgi', 'yoxmf3xjhid'], 'platform': None, 'self_reported_circulating_supply': None, 'self_reported_market_cap': None, 'quote': {'USD': {'price': 0.6563996886451227, 'volume_24h': 997, 'volume_change_24h': 0.8872704890959944, 'percent_change_1h': 0.3126924832662472, 'percent_change_24h': 0.5111134284829295, 'percent_change_7d': 0.13906096727782535, 'market_cap': 0.16191822672046086, 'market_cap_dominance': 2293, 'fully_diluted_market_cap': 0.598834459934249, 'last_updated': '2025-02-01T14:01:58.185Z'}}}, {'id': 7934, 'name': 'dhs20563hcn', 'symbol': 'vg6de6x0l4a', 'slug': '5bjfwpusffx', 'cmc_rank': 2756, 'num_market_pairs': 6137, 'circulating_supply': 3397, 'total_supply': 8252, 'max_supply': 1339, 'infinite_supply': None, 'last_updated': '2025-02-01T14:01:58.185Z', 'date_added': '2025-02-01T14:01:58.185Z', 'tags': ['gcrr4kxpmpd', 'ufzpycrbxoj', 'q44cf1m4fx', 'pwr4swhqxdg', 'ufu1ze9oz9a', 'diy9sicjzi', 'bp77gpo1n25', '0i3eoqwldkht', 'de9ukcrkjfg', 'm7j91xikek'], 'platform': None, 'self_reported_circulating_supply': None, 'self_reported_market_cap': None, 'quote': {'USD': {'price': 0.7303944194392933, 'volume_24h': 3708, 'volume_change_24h': 0.13086840769529973, 'percent_change_1h': 0.06805723068758662, 'percent_change_24h': 0.928217752580285, 'percent_change_7d': 0.4764720821002737, 'market_cap': 0.2345878670021746, 'market_cap_dominance': 731, 'fully_diluted_market_cap': 0.46261624658565426, 'last_updated': '2025-02-01T14:01:58.185Z'}}}, {'id': 2376, 'name': 'dpjtpb2xfsk', 'symbol': 'jwpjli930t', 'slug': 'c61ugh2xngi', 'cmc_rank': 9634, 'num_market_pairs': 6347, 'circulating_supply': 5191, 'total_supply': 7146, 'max_supply': 3502, 'infinite_supply': None, 'last_updated': '2025-02-01T14:01:58.185Z', 'date_added': '2025-02-01T14:01:58.185Z', 'tags': ['gg2c5r3eg37', 'rf0scf9fxwn', '0dzwsv5wdr3d', 's2qwfz9t9za', 'h4glg1w62jr', 'lp22bl97iqb', '1h10hu865mg', 'q7t6mlu0ws', '508k69goihn', '52sgc6exg4p'], 'platform': None, 'self_reported_circulating_supply': None, 'self_reported_market_cap': None, 'quote': {'USD': {'price': 0.4213201312137278, 'volume_24h': 6709, 'volume_change_24h': 0.1721033957222382, 'percent_change_1h': 0.14443071336201796, 'percent_change_24h': 0.33932332609127736, 'percent_change_7d': 0.5341346238742448, 'market_cap': 0.5064844339075796, 'market_cap_dominance': 3843, 'fully_diluted_market_cap': 0.2196836303769354, 'last_updated': '2025-02-01T14:01:58.185Z'}}}, {'id': 3102, 'name': '76vvo2hivwb', 'symbol': '6hdn0127p0d', 'slug': 'mshfvhq824', 'cmc_rank': 3797, 'num_market_pairs': 7748, 'circulating_supply': 8290, 'total_supply': 1451, 'max_supply': 7843, 'infinite_supply': None, 'last_updated': '2025-02-01T14:01:58.185Z', 'date_added': '2025-02-01T14:01:58.185Z', 'tags': ['xyxitcuxtwh', 'kwbt199c1w', '0czrh21fft34', 'gyvvxoduxsn', '5633hbxdok', '7qwkket2bna', 'yrf5m6wrp1e', '8f1hk70ot1i', 'yrythdf9m2f', 'c9l7szour8d'], 'platform': None, 'self_reported_circulating_supply': None, 'self_reported_market_cap': None, 'quote': {'USD': {'price': 0.3345249843920932, 'volume_24h': 6051, 'volume_change_24h': 0.5626789775048868, 'percent_change_1h': 0.14173795965350067, 'percent_change_24h': 0.05287190982576617, 'percent_change_7d': 0.8014224641590459, 'market_cap': 0.22288715544760263, 'market_cap_dominance': 6402, 'fully_diluted_market_cap': 0.3989810928754165, 'last_updated': '2025-02-01T14:01:58.185Z'}}}, {'id': 2033, 'name': '0gmb9byk2bkg', 'symbol': 'c5hjd2v1cj4', 'slug': 'b806ytge3zd', 'cmc_rank': 5695, 'num_market_pairs': 5546, 'circulating_supply': 3220, 'total_supply': 8800, 'max_supply': 1851, 'infinite_supply': None, 'last_updated': '2025-02-01T14:01:58.185Z', 'date_added': '2025-02-01T14:01:58.185Z', 'tags': ['kxezk706tdh', 'hxslj1utnr6', '80ucrvv8hjj', '6v8ch7shwwo', 'cu1en1of3va', 'lrqq7gcvdh', 'l8inl2x55d', '6to9r8vwtv', 'ot7z9kycqls', '8mjevecwii8'], 'platform': None, 'self_reported_circulating_supply': None, 'self_reported_market_cap': None, 'quote': {'USD': {'price': 0.320613965022051, 'volume_24h': 2083, 'volume_change_24h': 0.9134534069323317, 'percent_change_1h': 0.506758852486594, 'percent_change_24h': 0.22337810010797243, 'percent_change_7d': 0.7845986412404835, 'market_cap': 0.4249882238077993, 'market_cap_dominance': 9882, 'fully_diluted_market_cap': 0.3183402720368549, 'last_updated': '2025-02-01T14:01:58.185Z'}}}]}\n"
     ]
    }
   ],
   "source": [
    "from requests import Request, Session\n",
    "from requests.exceptions import ConnectionError, Timeout, TooManyRedirects\n",
    "import json\n",
    "\n",
    "url = 'https://sandbox-api.coinmarketcap.com/v1/cryptocurrency/listings/latest'\n",
    "parameters = {\n",
    "  'start':'1',\n",
    "  'limit':'5000',\n",
    "  'convert':'USD'\n",
    "}\n",
    "headers = {\n",
    "  'Accepts': 'application/json',\n",
    "  'X-CMC_PRO_API_KEY': 'b54bcf4d-1bca-4e8e-9a24-22ff2c3d462c',\n",
    "}\n",
    "\n",
    "session = Session()\n",
    "session.headers.update(headers)\n",
    "\n",
    "try:\n",
    "  response = session.get(url, params=parameters)\n",
    "  data = json.loads(response.text)\n",
    "  print(data)\n",
    "except (ConnectionError, Timeout, TooManyRedirects) as e:\n",
    "  print(e)"
   ]
  }
 ],
 "metadata": {
  "kernelspec": {
   "display_name": "Python 3",
   "language": "python",
   "name": "python3"
  },
  "language_info": {
   "codemirror_mode": {
    "name": "ipython",
    "version": 3
   },
   "file_extension": ".py",
   "mimetype": "text/x-python",
   "name": "python",
   "nbconvert_exporter": "python",
   "pygments_lexer": "ipython3",
   "version": "3.13.1"
  }
 },
 "nbformat": 4,
 "nbformat_minor": 2
}
